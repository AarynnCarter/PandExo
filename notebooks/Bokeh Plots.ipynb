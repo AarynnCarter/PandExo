{
 "cells": [
  {
   "cell_type": "code",
   "execution_count": 2,
   "metadata": {
    "collapsed": false
   },
   "outputs": [],
   "source": [
    "#import createInput as create\n",
    "import sys\n",
    "import json\n",
    "import copy\n",
    "import numpy as np\n",
    "import matplotlib.pyplot as plt\n",
    "import pandexo as exo\n",
    "import exosim_modes as exom\n",
    "%matplotlib inline\n",
    "import cProfile\n",
    "planetfile = '/Users/nbatalh1/Downloads/forNatasha_HD97658b_DLSODES.txt'\n",
    "pwunits = 'um'\n",
    "pfunits = 'fp/f*'\n",
    "starfile = \"/Users/nbatalh1/Desktop/JWST/pandexo/gj1132_star.txt\"\n",
    "swunits = 'Angs'\n",
    "sfunits = 'FLAM'\n",
    "jmags = [6.9]\n",
    "\n",
    "for jmag in jmags:\n",
    "    hd = exom.SetDefaultModes(starfile,planetfile,  jmag)\n",
    "\n",
    "    spec= hd.nirspec()\n",
    "    spec['pandexo_input']['star']['type']= 'phoenix'\n",
    "    spec['pandexo_input']['star']['temp'] = 5750.0\n",
    "    spec['pandexo_input']['star']['logg'] = 4.51\n",
    "    spec['pandexo_input']['star']['metal'] = -.23\n",
    "    spec['pandexo_input']['planet']['w_unit'] = pwunits\n",
    "    spec['pandexo_input']['planet']['f_unit'] = pfunits\n",
    "    spec['pandexo_input']['star']['w_unit'] = swunits\n",
    "    spec['pandexo_input']['star']['f_unit'] = sfunits\n",
    "    spec['pandexo_input']['observation']['transit_duration'] = .1234*24.0*60.0*60.0\n",
    "\n",
    "    spec['pandexo_input']['observation']['noccultations'] = 1\n",
    "\n",
    "\n",
    "    sec3 = spec\n",
    "    #sec3['pandeia_input']['configuration']['instrument']['filter'] = None\n",
    "    #sec3['pandeia_input']['configuration']['instrument']['disperser'] = 'gr700xd'\n",
    "    #sec3['pandeia_input']['calculation']['noise']['rn_correlation'] = True\n",
    "    section5 = exo.wrapper(spec)\n",
    "    #print jmag, section5[\"timing\"]['Num Groups per Integration'], np.median(section5['error_unbin'])*1e6\n",
    "\n",
    "    #a = cProfile.run('exo.wrapper(sec3)', sort='cumtime')"
   ]
  },
  {
   "cell_type": "code",
   "execution_count": 2,
   "metadata": {
    "collapsed": true
   },
   "outputs": [],
   "source": [
    "from bokeh.io import vform,output_file, show\n",
    "import numpy as np\n",
    "from bokeh.plotting import figure\n",
    "from bokeh.embed import components\n",
    "from bokeh.models.widgets import Panel, Tabs\n",
    "from bokeh.models import CustomJS, ColumnDataSource, Slider\n",
    "from bokeh.charts import HeatMap, color\n",
    "from bokeh.palettes import brewer\n",
    "import pandas as pd\n",
    "import pickle as pkl \n",
    "import matplotlib.pyplot as plt\n",
    "%matplotlib inline"
   ]
  },
  {
   "cell_type": "code",
   "execution_count": 4,
   "metadata": {
    "collapsed": false
   },
   "outputs": [
    {
     "name": "stdout",
     "output_type": "stream",
     "text": [
      "['error_bin', 'timing_div', 'wave_bin', 'warnings_div', 'sim_spec', 'error_unbin', 'input_div', 'timing', 'wmodel', 'model', 'wave_unbin', 'out']\n"
     ]
    }
   ],
   "source": [
    "ALL = pkl.load(open('/Users/nbatalh1/Desktop/Simulations/NIRISS/WASP-62 b.p', 'rb'))\n",
    "result_dict = ALL\n",
    "print ALL.keys()"
   ]
  },
  {
   "cell_type": "code",
   "execution_count": 12,
   "metadata": {
    "collapsed": false
   },
   "outputs": [],
   "source": [
    "noccultations = result_dict['timing']['Number of Transits']\n",
    "\n",
    "\n",
    "#bounds \n",
    "#LBout = result_dict['LBout']\n",
    "#UBout = result_dict['UBout']\n",
    "\n",
    "#print result_dict['out']['warnings']\n"
   ]
  },
  {
   "cell_type": "code",
   "execution_count": 16,
   "metadata": {
    "collapsed": false
   },
   "outputs": [],
   "source": [
    "output_file(\"junk.html\")\n",
    "\n",
    "TOOLS = \"pan,wheel_zoom,box_zoom,resize,reset,save\"\n",
    "\n",
    "#MAIN spectrum \n",
    "punit = result_dict['input']['Primary/Secondary']\n",
    "p=1.0\n",
    "if punit == 'fp/f*': p = -1.0\n",
    "else: punit = '('+punit+')^2'\n",
    "\n",
    "flux_out = result_dict['RawData']['flux_out']\n",
    "flux_in = result_dict['RawData']['flux_in']\n",
    "var_tot = result_dict['RawData']['var_out'] + result_dict['RawData']['var_in']\n",
    "\n",
    "x = result_dict['FinalSpectrum']['wave']\n",
    "y = result_dict['FinalSpectrum']['spectrum_w_rand']\n",
    "err = result_dict['FinalSpectrum']['error_w_floor']\n",
    "\n",
    "y_err = []\n",
    "x_err = []\n",
    "for px, py, yerr in zip(x, y, err):\n",
    "    np.array(x_err.append((px, px)))\n",
    "    np.array(y_err.append((py - yerr, py + yerr)))\n",
    "\n",
    "source = ColumnDataSource(data=dict(x=x, y=y, y_err=y_err, x_err=x_err, err=err, flux_out=flux_out, flux_in=flux_in, var_tot=var_tot, p=var_tot*0+p))\n",
    "original = ColumnDataSource(data=dict(x=x, y=y, y_err=y_err, x_err=x_err, err=err, flux_out=flux_out, flux_in=flux_in, var_tot=var_tot))\n",
    "\n",
    "ylims = [min(result_dict['OriginalInput']['og_spec'])- 0.1*min(result_dict['OriginalInput']['og_spec']),\n",
    "             0.1*max(result_dict['OriginalInput']['og_spec'])+max(result_dict['OriginalInput']['og_spec'])]\n",
    "xlims = [min(result_dict['FinalSpectrum']['wave']), max(result_dict['FinalSpectrum']['wave'])]\n",
    "\n",
    "plot_spectrum = figure(plot_width=800, plot_height=300, x_range=xlims,\n",
    "                           y_range=ylims, tools=TOOLS,#responsive=True,\n",
    "                             x_axis_label='Wavelength [microns]',\n",
    "                             y_axis_label=punit, \n",
    "                           title=\"Original Model with Observation\")\n",
    "\n",
    "plot_spectrum.line(result_dict['OriginalInput']['og_wave'],result_dict['OriginalInput']['og_spec'], color= \"black\", alpha = 0.5, line_width = 4)\n",
    "\n",
    "plot_spectrum.circle('x', 'y', source=source, line_width=3, line_alpha=0.6)\n",
    "plot_spectrum.multi_line('x_err', 'y_err', source=source)\n",
    "\n",
    "callback = CustomJS(args=dict(source=source, original=original), code=\"\"\"\n",
    "        // Grab some references to the data\n",
    "        var sdata = source.get('data');\n",
    "        var odata = original.get('data');\n",
    "\n",
    "        // Create copies of the original data, store them as the source data\n",
    "        sdata['x'] = odata['x'].slice(0);\n",
    "        sdata['y'] = odata['y'].slice(0);\n",
    "\n",
    "        sdata['y_err'] = odata['y_err'].slice(0);\n",
    "        sdata['x_err'] = odata['x_err'].slice(0);\n",
    "        sdata['err'] = odata['err'].slice(0);\n",
    "\n",
    "        sdata['flux_out'] = odata['flux_out'].slice(0);\n",
    "        sdata['flux_in'] = odata['flux_in'].slice(0);\n",
    "        sdata['var_tot'] = odata['var_tot'].slice(0);\n",
    "\n",
    "        // Create some variables referencing the source data\n",
    "        var x = sdata['x'];\n",
    "        var y = sdata['y'];\n",
    "        var y_err = sdata['y_err'];\n",
    "        var x_err = sdata['x_err'];\n",
    "        var err = sdata['err'];\n",
    "        var p = sdata['p'];\n",
    "\n",
    "        var flux_out = sdata['flux_out'];\n",
    "        var flux_in = sdata['flux_in'];\n",
    "        var var_tot = sdata['var_tot'];\n",
    "\n",
    "        var f = cb_obj.get('value');\n",
    "\n",
    "        var wlength = Math.pow(10.0,f);\n",
    "\n",
    "        var ind = [];\n",
    "        ind.push(0);\n",
    "        var start = 0;\n",
    "\n",
    "\n",
    "        for (i = 0; i < x.length-1; i++) {\n",
    "            if (x[i+1] - x[start] >= wlength) {\n",
    "                ind.push(i+1);\n",
    "                start = i;\n",
    "            }\n",
    "        }\n",
    "\n",
    "        if (ind[ind.length-1] != x.length) {\n",
    "            ind.push(x.length);\n",
    "        }\n",
    "\n",
    "        var xout = [];\n",
    "\n",
    "\n",
    "        var foutout = [];\n",
    "        var finout = [];\n",
    "        var varout = [];\n",
    "\n",
    "        var xslice = []; \n",
    "\n",
    "\n",
    "        var foutslice = [];\n",
    "        var finslice = [];\n",
    "        var varslice = [];\n",
    "\n",
    "        function add(a, b) {\n",
    "            return a+b;\n",
    "        }\n",
    "\n",
    "        for (i = 0; i < ind.length-1; i++) {\n",
    "            xslice = x.slice(ind[i],ind[i+1]);\n",
    "\n",
    "            foutslice = flux_out.slice(ind[i],ind[i+1]);\n",
    "            finslice = flux_in.slice(ind[i],ind[i+1]);\n",
    "            varslice = var_tot.slice(ind[i],ind[i+1]);\n",
    "\n",
    "            xout.push(xslice.reduce(add, 0)/xslice.length);\n",
    "            foutout.push(foutslice.reduce(add, 0));\n",
    "            finout.push(finslice.reduce(add, 0));\n",
    "            varout.push(varslice.reduce(add, 0));\n",
    "\n",
    "            xslice = [];\n",
    "\n",
    "            foutslice = [];\n",
    "            finslice = [];\n",
    "            varslice = [];\n",
    "        }\n",
    "\n",
    "        for (i = 0; i < x.length; i++) {\n",
    "            y[i] = p[i]*(foutout[i]-finout[i]+ (Math.sqrt(varout[i])*(Math.random()-Math.random())))/foutout[i]; \n",
    "            x[i] = xout[i];\n",
    "            x_err[i][0] = xout[i];\n",
    "            x_err[i][1] = xout[i];\n",
    "            y_err[i][0] = y[i] + (Math.sqrt(varout[i])/foutout[i]);\n",
    "            y_err[i][1] = y[i] -(Math.sqrt(varout[i])/foutout[i]);            \n",
    "        }\n",
    "\n",
    "        source.trigger('change');\n",
    "    \"\"\")\n",
    "\n",
    "slider =  Slider(title=\"binning\", value=np.log10(x[1]-x[0]), start=np.log10(x[1]-x[0]), end=np.log10(max(x)/2.0), step= .05, callback=callback)\n",
    "layout = vform(slider, plot_spectrum)\n",
    "show(layout)                                                          "
   ]
  },
  {
   "cell_type": "code",
   "execution_count": 2,
   "metadata": {
    "collapsed": false
   },
   "outputs": [],
   "source": [
    "def bokeherrorbar(fig, x, y, xerr=None, yerr=None, color='red', point_kwargs={}, error_kwargs={}):\n",
    "\n",
    "  fig.circle(x, y, size = 5, color=color, **point_kwargs)\n",
    "\n",
    "  if xerr is not None:\n",
    "      x_err_x = []\n",
    "      x_err_y = []\n",
    "      for px, py, err in zip(x, y, xerr):\n",
    "          x_err_x.append((px - err, px + err))\n",
    "          x_err_y.append((py, py))\n",
    "      fig.multi_line(x_err_x, x_err_y, color=color, **error_kwargs)\n",
    "\n",
    "  if yerr is not None:\n",
    "      y_err_x = []\n",
    "      y_err_y = []\n",
    "      for px, py, err in zip(x, y, yerr):\n",
    "          y_err_x.append((px, px))\n",
    "          y_err_y.append((py - err, py + err))\n",
    "      fig.multi_line(y_err_x, y_err_y, color=color, **error_kwargs)"
   ]
  },
  {
   "cell_type": "code",
   "execution_count": 24,
   "metadata": {
    "collapsed": false
   },
   "outputs": [],
   "source": [
    "output_file(\"slider.html\")\n",
    "TOOLS = \"pan,wheel_zoom,box_zoom,resize,reset,save\"\n",
    "# Flux 1d\n",
    "x, y = out['1d']['extracted_flux']\n",
    "x = x[~np.isnan(y)]\n",
    "y = y[~np.isnan(y)]\n",
    "\n",
    "\n",
    "plot_flux_1d1 = figure(tools=TOOLS,#responsive=True,\n",
    "                     x_axis_label='Wavelength [microns]',\n",
    "                     y_axis_label='Flux', title=\"Out of Transit Flux\",\n",
    "                     plot_width=1000, plot_height=300)\n",
    "plot_flux_1d1.line(x, y, line_width = 4, alpha = .7)\n",
    "tab1 = Panel(child=plot_flux_1d1, title=\"Total Flux\")\n",
    "\n",
    "# BG 1d\n",
    "x, y = out['1d']['bg']\n",
    "x = x[~np.isnan(y)]\n",
    "y = y[~np.isnan(y)]\n",
    "\n",
    "plot_bg_1d1 = figure(tools=TOOLS,#responsive=True,\n",
    "                     x_axis_label='Wavelength [microns]',\n",
    "                     y_axis_label='Flux', title=\"Background\",\n",
    "                     plot_width=1000, plot_height=300)\n",
    "plot_bg_1d1.line(x, y, line_width = 4, alpha = .7)\n",
    "tab2 = Panel(child=plot_bg_1d1, title=\"Background Flux\")\n",
    "\n",
    "# SNR 1d\n",
    "x, y = out['1d']['sn']\n",
    "x = x[~np.isnan(y)]\n",
    "y = y[~np.isnan(y)]\n",
    "\n",
    "\n",
    "plot_snr_1d1 = figure(tools=TOOLS,#responsive=True,\n",
    "                     x_axis_label='Wavelength [microns]',\n",
    "                     y_axis_label='SNR', title=\"Signal-to-Noise Ratio\",\n",
    "                     plot_width=500, plot_height=250)\n",
    "plot_snr_1d1.line(x, y, line_width = 4, alpha = .7, color='black')\n",
    "tab3 = Panel(child=plot_snr_1d1, title=\"SNR\")\n",
    "\n",
    "\n",
    "# Error bars (ppm) \n",
    "\n",
    "x = result_dict['wave_bin']\n",
    "y = result_dict['error_unbin']*1e6\n",
    "x = x[~np.isnan(y)]\n",
    "y = y[~np.isnan(y)]\n",
    "\n",
    "\n",
    "ymed = np.median(y)\n",
    "#y[(y>0.01) & (y<5000)] = 0.0\n",
    "#x[(y>0.01) & (y<5000)]\n",
    "\n",
    "plot_noise_1d1 = figure(tools=TOOLS,#responsive=True,\n",
    "                     x_axis_label='Wavelength [microns]',\n",
    "                     y_axis_label='Error on Spectrum (PPM)', title=\"Error Curve\",\n",
    "                     plot_width=1000, plot_height=300, y_range = [0,2.0*ymed])\n",
    "\n",
    "plot_noise_1d1.circle(x, y, line_width = 4, alpha = .7)\n",
    "tab4 = Panel(child=plot_noise_1d1, title=\"Error\")\n",
    "\n",
    "#Not happy? Need help picking a different mode? \n",
    "plot_spectrum2 = figure(plot_width=1000, plot_height=300, x_range=[0.5,14], tools=TOOLS,\n",
    "                         x_axis_label='Wavelength [microns]',\n",
    "                         y_axis_label='Rp/R*', title=\"Original Model with Observing Efficiency\",y_axis_type=\"log\")\n",
    "\n",
    "plot_spectrum2.line(result_dict['wmodel'],model, line_width = 4,alpha = .7)\n",
    "tab5 = Panel(child=plot_spectrum2, title=\"Not Happy? Choose another mode\")\n",
    "\n",
    "\n",
    "\n",
    "\n",
    "tabs1d = Tabs(tabs=[ tab1, tab2,tab3, tab4, tab5])\n",
    "#from bokeh.embed import components\n",
    "#script, div = components({'tab5':tab5})\n",
    "\n",
    "show(tabs1d)"
   ]
  },
  {
   "cell_type": "code",
   "execution_count": null,
   "metadata": {
    "collapsed": false
   },
   "outputs": [],
   "source": [
    "print result_dict['out']['warnings']"
   ]
  },
  {
   "cell_type": "markdown",
   "metadata": {},
   "source": [
    "# 2 D PLOTS"
   ]
  },
  {
   "cell_type": "code",
   "execution_count": null,
   "metadata": {
    "collapsed": false
   },
   "outputs": [],
   "source": [
    "output_file(\"junk.html\")\n",
    "data = out['2d']['detector']\n",
    "TOOLS = \"pan,wheel_zoom,box_zoom,resize,reset,save\"\n",
    "\n",
    "\n",
    "xr, yr = data.shape\n",
    "\n",
    "plot_detector_2d = figure(responsive=True, tools=TOOLS,\n",
    "                     x_range=[0, yr], y_range=[0, xr],\n",
    "                     x_axis_label='Pixel', y_axis_label='Spatial',\n",
    "                     title=\"2D Detector Image\",\n",
    "                    plot_width=1000, plot_height=300)\n",
    "plot_detector_2d.image(image=[data], x=[0], y=[0], dh=[xr], dw=[yr],\n",
    "                  palette=\"Spectral11\")\n",
    "\n",
    "\n",
    "show(plot_detector_2d)"
   ]
  },
  {
   "cell_type": "code",
   "execution_count": 25,
   "metadata": {
    "collapsed": false
   },
   "outputs": [],
   "source": [
    "#2d tabs \n",
    "\n",
    "#snr \n",
    "data = out['2d']['snr']\n",
    "data[np.isinf(data)] = 0.0\n",
    "xr, yr = data.shape\n",
    "plot_snr_2d = figure(tools=TOOLS,\n",
    "                     x_range=[0, yr], y_range=[0, xr],\n",
    "                     x_axis_label='Pixel', y_axis_label='Spatial',\n",
    "                     title=\"Signal-to-Noise Ratio\",\n",
    "                    plot_width=500, plot_height=250)\n",
    "plot_snr_2d.image(image=[data], x=[0], y=[0], dh=[xr], dw=[yr],\n",
    "                  palette=\"Spectral11\")\n",
    "tab1b = Panel(child=plot_snr_2d, title=\"SNR\")\n",
    "\n",
    "#saturation\n",
    "data = out['2d']['saturation']\n",
    "xr, yr = data.shape\n",
    "plot_sat_2d = figure(tools=TOOLS,\n",
    "                     x_range=[0, yr], y_range=[0, xr],\n",
    "                     x_axis_label='Pixel', y_axis_label='Spatial',\n",
    "                     title=\"Saturation\",\n",
    "                    plot_width=1000, plot_height=300)\n",
    "plot_sat_2d.image(image=[data], x=[0], y=[0], dh=[xr], dw=[yr],\n",
    "                  palette=\"Spectral11\")\n",
    "tab2b = Panel(child=plot_sat_2d, title=\"Saturation\")\n",
    "\n",
    "tabs2d = Tabs(tabs=[ tab1b, tab2b])\n",
    "show(tabs2d)\n",
    "\n"
   ]
  },
  {
   "cell_type": "markdown",
   "metadata": {},
   "source": [
    "# Color bar"
   ]
  },
  {
   "cell_type": "code",
   "execution_count": null,
   "metadata": {
    "collapsed": false
   },
   "outputs": [],
   "source": [
    "data = out['2d']['snr']\n",
    "a = np.linspace(np.min(data),np.max(data),1000)\n",
    "\n",
    "data = {' ': [' ']*1000 ,\n",
    "        'fruit_count': a,\n",
    "        '  ': a}\n",
    "color = brewer[\"Spectral\"][11][::-1]\n",
    "hm = HeatMap(data, x=' ', y='  ', values='fruit_count',\n",
    "             title='SNR', stat=None, color = color)\n",
    "show(hm)\n"
   ]
  },
  {
   "cell_type": "markdown",
   "metadata": {},
   "source": [
    "# EFFICIENCY PLOT (NOT DONE)"
   ]
  },
  {
   "cell_type": "code",
   "execution_count": null,
   "metadata": {
    "collapsed": false
   },
   "outputs": [],
   "source": [
    "#throughputs \n",
    "\n",
    "import get_pce as gp\n",
    "instrument = 'nirspec'\n",
    "mode = 'fixed_slit'\n",
    "config = {\n",
    "            'filter': 'f070lp',\n",
    "            'aperture': 's1600a1',\n",
    "            'disperser': 'g140m'}\n",
    "\n",
    "nirsw1, nirsf1 = gp.get_pce(instrument, mode, config)\n",
    "\n",
    "instrument = 'nirspec'\n",
    "mode = 'fixed_slit'\n",
    "config = {\n",
    "            'filter': 'f100lp',\n",
    "            'aperture': 's1600a1',\n",
    "            'disperser': 'g140m'}\n",
    "\n",
    "nirsw2, nirsf2 = gp.get_pce(instrument, mode, config)\n",
    "\n",
    "instrument = 'nirspec'\n",
    "mode = 'fixed_slit'\n",
    "config = {\n",
    "            'filter': 'f170lp',\n",
    "            'aperture': 's1600a1',\n",
    "            'disperser': 'g235m'}\n",
    "\n",
    "nirsw3, nirsf3 = gp.get_pce(instrument, mode, config)\n",
    "\n",
    "instrument = 'nirspec'\n",
    "mode = 'fixed_slit'\n",
    "config = {\n",
    "            'filter': 'f290lp',\n",
    "            'aperture': 's1600a1',\n",
    "            'disperser': 'g395m'}\n",
    "\n",
    "nirsw4, nirsf4 = gp.get_pce(instrument, mode, config)\n",
    "\n",
    "\n",
    "instrument = 'miri'\n",
    "mode = 'lrsslitless'\n",
    "config = {\n",
    "            'filter': None,\n",
    "            'aperture': 'imager',\n",
    "            'disperser': 'p750l'}\n",
    "\n",
    "miriw, mirif = gp.get_pce(instrument, mode, config)\n",
    "\n",
    "\n",
    "instrument = 'niriss'\n",
    "mode = 'soss'\n",
    "config = {\n",
    "            'filter': None,\n",
    "            'aperture': 'soss',\n",
    "            'disperser': 'gr700xd_2'}\n",
    "\n",
    "niriw1, nirif1 = gp.get_pce(instrument, mode, config)\n",
    "\n",
    "instrument = 'niriss'\n",
    "mode = 'soss'\n",
    "config = {\n",
    "            'filter': None,\n",
    "            'aperture': 'soss',\n",
    "            'disperser': 'gr700xd_1'}\n",
    "\n",
    "niriw2, nirif2 = gp.get_pce(instrument, mode, config)\n",
    "\n",
    "\n",
    "#NIRISS \n",
    "\n"
   ]
  },
  {
   "cell_type": "markdown",
   "metadata": {
    "collapsed": true
   },
   "source": [
    "# PANDAS TIME TABLES"
   ]
  },
  {
   "cell_type": "code",
   "execution_count": null,
   "metadata": {
    "collapsed": false
   },
   "outputs": [],
   "source": [
    "timing = section5['timing']\n",
    "timing_script = pd.DataFrame(timing.items()).to_html().encode()\n"
   ]
  },
  {
   "cell_type": "code",
   "execution_count": null,
   "metadata": {
    "collapsed": false
   },
   "outputs": [],
   "source": [
    "final = '<table class=\"table table-striped\">'\n",
    "timing_script =  '<table class=\"table table-striped\"> \\n'+ timing_script[36:len(timing_script)]\n",
    "print timing_script"
   ]
  },
  {
   "cell_type": "markdown",
   "metadata": {
    "collapsed": true
   },
   "source": [
    "# Instrument tables "
   ]
  },
  {
   "cell_type": "code",
   "execution_count": null,
   "metadata": {
    "collapsed": true
   },
   "outputs": [],
   "source": [
    "out = section5['out']\n",
    "input_dict = {\n",
    "    \"Target J Mag\": jmag , \n",
    "    \"Saturation Level (electons)\": sat_level, \n",
    "    \"Instrument\": out['input']['configuration']['instrument']['instrument'], \n",
    "    \"Mode\": out['input']['configuration']['instrument']['mode'], \n",
    "    \"Aperture\": out['input']['configuration']['instrument']['aperture'], \n",
    "    \"Disperser\": out['input']['configuration']['instrument']['disperser'], \n",
    "    \"Subarray\": out['input']['configuration']['detector']['subarray'], \n",
    "    \"Readmode\": out['input']['configuration']['detector']['readmode'], \n",
    "    \"Filter\": out['input']['configuration']['instrument']['filter']\n",
    "}"
   ]
  },
  {
   "cell_type": "code",
   "execution_count": null,
   "metadata": {
    "collapsed": false
   },
   "outputs": [],
   "source": [
    "out['input']['configuration']['instrument']['mode']"
   ]
  },
  {
   "cell_type": "markdown",
   "metadata": {
    "collapsed": true
   },
   "source": [
    "# NOISE vs. JMAG"
   ]
  },
  {
   "cell_type": "code",
   "execution_count": null,
   "metadata": {
    "collapsed": false
   },
   "outputs": [],
   "source": [
    "cn = np.concatenate\n",
    "g140 = pkl.load(open('nirspec140.pkl','r'))\n",
    "g235 = pkl.load(open('nirspec235.pkl','r'))\n",
    "g395 = pkl.load(open('nirspec395.pkl','r'))\n",
    "prism = pkl.load(open('nirspecprism.pkl','r'))\n",
    "f322 = pkl.load(open('nircam322.pkl','r'))\n",
    "f444 = pkl.load(open('nircam444.pkl','r'))\n",
    "niriss = pd.read_csv(open('niriss.txt'), index_col = False, header = None, delimiter=' ')\n",
    "\n",
    "miri = pd.read_csv(open('miri.txt'), index_col = False, header = None, delimiter=' ')\n"
   ]
  },
  {
   "cell_type": "code",
   "execution_count": null,
   "metadata": {
    "collapsed": false
   },
   "outputs": [],
   "source": [
    "output_file(\"junk.html\")\n",
    "TOOLS = \"pan,wheel_zoom,box_zoom,resize,reset,save\"\n",
    "\n",
    "jmagnoise = figure(tools=TOOLS,#responsive=True,\n",
    "                     #x_axis_label='2MASS J',\n",
    "                     #y_axis_label='Noise on Spectrum (ppm)', \n",
    "                       y_axis_type = 'log',\n",
    "                     plot_width=400, plot_height=250)\n",
    "'''\n",
    "#1.4\n",
    "jmagnoise.circle(g140['jmag'][1:len(g140['jmag'])], g140['1.4um'][1:len(g140['jmag'])]\n",
    "                                                                 , alpha = .7, size = 10, color = 'black')\n",
    "jmagnoise.line(g140['jmag'][1:len(g140['jmag'])], g140['1.4um'][1:len(g140['jmag'])]\n",
    "               , line_width = 4, alpha = .7, color = 'black')\n",
    "jmagnoise.triangle(niriss[0], niriss[1], alpha = .7, size = 10, color = 'black')\n",
    "jmagnoise.line(niriss[0], niriss[1], line_width = 4, alpha = .7, color = 'black')\n",
    "jmagnoise.diamond(prism['jmag'][3:len(prism['jmag'])], prism['1.4um'][3:len(prism['jmag'])], alpha = .7, size = 10, color = 'black')\n",
    "jmagnoise.line(prism['jmag'][3:len(prism['jmag'])], prism['1.4um'][3:len(prism['jmag'])], line_width = 4, alpha = .7, color = 'black')\n",
    "\n",
    "#2.5\n",
    "jmagnoise.circle(g235['jmag'], g235['2.3um'],  alpha = .7,size = 10, color = 'blue')\n",
    "jmagnoise.line(g235['jmag'], g235['2.3um'], line_width = 4, alpha = .7, color = 'blue')\n",
    "jmagnoise.triangle(niriss[0], niriss[4],  alpha = .7,size = 10, color = 'blue')\n",
    "jmagnoise.line(niriss[0], niriss[4], line_width = 4, alpha = .7, color = 'blue')\n",
    "jmagnoise.diamond(prism['jmag'], prism['2.3um'],  alpha = .7, size = 10, color = 'blue')\n",
    "jmagnoise.line(prism['jmag'], prism['2.3um'], line_width = 4, alpha = .7, color = 'blue')\n",
    "\n",
    "#3.3\n",
    "jmagnoise.square(f322['jmag'][2:len(prism['jmag'])], f322['3.3um'][2:len(prism['jmag'])], alpha = .7, size = 10, color = 'red')\n",
    "jmagnoise.line(f322['jmag'][2:len(prism['jmag'])], f322['3.3um'][2:len(prism['jmag'])], line_width = 4, alpha = .7, color = 'red')\n",
    "jmagnoise.diamond(prism['jmag'], prism['3.3um'], alpha = .7, size = 10, color = 'red')\n",
    "jmagnoise.line(prism['jmag'], prism['3.3um'], line_width = 4, alpha = .7, color = 'red')\n",
    "jmagnoise.circle(g395['jmag'], g395['3.3um'], alpha = .7,  size = 10, color = 'red')\n",
    "jmagnoise.line(g395['jmag'], g395['3.3um'], line_width = 4, alpha = .7, color = 'red')\n",
    "'''\n",
    "#4.5\n",
    "jmagnoise.square(f444['jmag'], f444['4.5um'], alpha = .7, size = 10, color = 'purple')\n",
    "jmagnoise.line(f444['jmag'], f444['4.5um'], line_width = 4, alpha = .7, color = 'purple')\n",
    "jmagnoise.diamond(prism['jmag'], prism['4.5um'], alpha = .7, size = 10, color = 'purple')\n",
    "jmagnoise.line(prism['jmag'], prism['4.5um'], line_width = 4, alpha = .7, color = 'purple')\n",
    "jmagnoise.circle(g395['jmag'], g395['4.5um'], alpha = .7,  size = 10, color = 'purple')\n",
    "jmagnoise.line(g395['jmag'], g395['4.5um'], line_width = 4, alpha = .7, color = 'purple')\n",
    "'''\n",
    "#8um\n",
    "jmagnoise.asterisk(miri[0], miri[3], alpha = .7, size = 10, color = 'green')\n",
    "jmagnoise.line(miri[0], miri[3], line_width = 4, alpha = .7, color = 'green')\n",
    "\n",
    "'''\n",
    "\n",
    "show(jmagnoise)\n",
    "\n",
    "\n"
   ]
  },
  {
   "cell_type": "code",
   "execution_count": null,
   "metadata": {
    "collapsed": true
   },
   "outputs": [],
   "source": []
  },
  {
   "cell_type": "code",
   "execution_count": 3,
   "metadata": {
    "collapsed": true
   },
   "outputs": [],
   "source": [
    "import numpy as np\n",
    "output_file('junk.html')\n",
    "plot = figure()\n",
    "x = range(0,1000)\n",
    "y = range(0,1000)\n",
    "source =ColumnDataSource(data=dict(x=x,y=y))\n",
    "plot.circle('x','y',source=source)\n",
    "show(plot)"
   ]
  },
  {
   "cell_type": "code",
   "execution_count": null,
   "metadata": {
    "collapsed": true
   },
   "outputs": [],
   "source": []
  }
 ],
 "metadata": {
  "kernelspec": {
   "display_name": "Python 2",
   "language": "python",
   "name": "python2"
  },
  "language_info": {
   "codemirror_mode": {
    "name": "ipython",
    "version": 2
   },
   "file_extension": ".py",
   "mimetype": "text/x-python",
   "name": "python",
   "nbconvert_exporter": "python",
   "pygments_lexer": "ipython2",
   "version": "2.7.5"
  }
 },
 "nbformat": 4,
 "nbformat_minor": 0
}
