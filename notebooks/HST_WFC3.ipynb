{
 "cells": [
  {
   "cell_type": "markdown",
   "metadata": {
    "collapsed": true
   },
   "source": [
    "# HST's Tranisting Exoplanet Noise Simulator \n",
    "\n",
    "This file demonstrates how to predict the:\n",
    "    1. Transmission/emission spectrum S/N ratio\n",
    "    2. Observation start window\n",
    "for any system observed with WFC3/IR.\n",
    "\n",
    "#### Background information\n",
    "    Pandeia: ETC for JWST\n",
    "    PandExo: Exoplanet noise simulator for JWST"
   ]
  },
  {
   "cell_type": "code",
   "execution_count": 1,
   "metadata": {},
   "outputs": [],
   "source": [
    "import pandexo.engine.justdoit as jdi"
   ]
  },
  {
   "cell_type": "markdown",
   "metadata": {},
   "source": [
    "## Edit Inputs\n",
    "\n",
    "### Load in a blank exoplanet dictionary "
   ]
  },
  {
   "cell_type": "code",
   "execution_count": 2,
   "metadata": {},
   "outputs": [],
   "source": [
    "exo_dict = jdi.load_exo_dict()"
   ]
  },
  {
   "cell_type": "markdown",
   "metadata": {},
   "source": [
    "#### Edit stellar and planet inputs"
   ]
  },
  {
   "cell_type": "code",
   "execution_count": 3,
   "metadata": {},
   "outputs": [],
   "source": [
    "#WASP-43\n",
    "exo_dict['star']['mag']      = 9.397                # H magnitude of the system\n",
    "#WASP-43b\n",
    "exo_dict['planet']['type']    = 'user'               # user specified inputs\n",
    "exo_dict['planet']['exopath'] = jdi.os.getcwd()+'/WASP43b-Eclipse_Spectrum.txt' # filename for model spectrum\n",
    "exo_dict['planet']['w_unit']  = 'um'                 # wavelength unit\n",
    "exo_dict['planet']['f_unit']  = 'fp/f*'              # flux ratio unit (can also put \"rp^2/r*^2\")\n",
    "exo_dict['planet']['depth']   = 4.0e-3               # flux ratio\n",
    "exo_dict['planet']['i']       = 82.6                 # Orbital inclination in degrees\n",
    "exo_dict['planet']['ars']     = 5.13                 # Semi-major axis / stellar radius\n",
    "exo_dict['planet']['period']  = 0.8135               # Orbital period in days   \n",
    "exo_dict['planet']['transit_duration']= 4170.0/60/60/24#(optional if given above info) transit duration in days\n",
    "exo_dict['planet']['w']       = 90                   #(optional) longitude of periastron. Default is 90\n",
    "exo_dict['planet']['ecc']     = 0                    #(optional) eccentricity. Default is 0 "
   ]
  },
  {
   "cell_type": "markdown",
   "metadata": {},
   "source": [
    "### Step 2) Load in instrument dictionary\n",
    " \n",
    "- WFC3 G141\n",
    "- WFC3 G102"
   ]
  },
  {
   "cell_type": "code",
   "execution_count": 5,
   "metadata": {},
   "outputs": [],
   "source": [
    "inst_dict = jdi.load_mode_dict('WFC3 G141')"
   ]
  },
  {
   "cell_type": "markdown",
   "metadata": {},
   "source": [
    "#### Edit HST/WFC3 detector and observation inputs"
   ]
  },
  {
   "cell_type": "code",
   "execution_count": 8,
   "metadata": {},
   "outputs": [],
   "source": [
    "exo_dict['observation']['noccultations']               = 5            # Number of transits/eclipses\n",
    "inst_dict['configuration']['detector']['subarray']     = 'GRISM256'   # GRISM256 or GRISM512\n",
    "inst_dict['configuration']['detector']['nsamp']        = 10           # WFC3 N_SAMP, 1..15\n",
    "inst_dict['configuration']['detector']['samp_seq']     = 'SPARS5'     # WFC3 SAMP_SEQ, SPARS5 or SPARS10\n",
    "inst_dict['strategy']['norbits']                       = 4            # Number of HST orbits\n",
    "inst_dict['strategy']['nchan']                       = 15           # Number of spectrophotometric channels\n",
    "inst_dict['strategy']['scanDirection']               = 'Forward'    # Spatial scan direction, Forward or Round Trip\n",
    "inst_dict['strategy']['schedulability']              = 30           # 30 for small/medium program, 100 for large program\n",
    "inst_dict['strategy']['windowSize']                  = 20           # (optional) Observation start window size in minutes. Default is 20 minutes.\n",
    "inst_dict['strategy']['useFirstOrbit']               = True        # (optional) Default is False, option to use first orbit\n",
    "inst_dict['strategy']['calculateRamp'] = True"
   ]
  },
  {
   "cell_type": "markdown",
   "metadata": {},
   "source": [
    "## Run PandExo\n",
    "\n",
    "`    jdi.run_pandexo(exo, inst, param_space = 0, param_range = 0,save_file = True,\n",
    "                            output_path=os.getcwd(), output_file = '')`\n",
    "\n",
    "See wiki Attributes for more thorough explanation fo inputs\n"
   ]
  },
  {
   "cell_type": "code",
   "execution_count": 10,
   "metadata": {
    "scrolled": true
   },
   "outputs": [
    {
     "name": "stdout",
     "output_type": "stream",
     "text": [
      "Running Single Case w/ User Instrument Dict\n",
      "****WARNING: Observing plan may incur mid-orbit buffer dumps.  Check with APT.\n"
     ]
    }
   ],
   "source": [
    "foo = jdi.run_pandexo(exo_dict, inst_dict, output_file='wasp43b.p')"
   ]
  },
  {
   "cell_type": "code",
   "execution_count": 7,
   "metadata": {
    "scrolled": true
   },
   "outputs": [
    {
     "name": "stdout",
     "output_type": "stream",
     "text": [
      "Running Single Case w/ User Instrument Dict\n"
     ]
    }
   ],
   "source": [
    "inst_dict['configuration']['detector']['nsamp'] = None\n",
    "inst_dict['configuration']['detector']['samp_seq'] = None\n",
    "bar = jdi.run_pandexo(exo_dict, inst_dict, output_file='wasp43b.p')"
   ]
  },
  {
   "cell_type": "code",
   "execution_count": 8,
   "metadata": {},
   "outputs": [
    {
     "name": "stdout",
     "output_type": "stream",
     "text": [
      "Running Single Case w/ User Instrument Dict\n"
     ]
    }
   ],
   "source": [
    "exo_dict['observation']['scanDirection'] = 'Round Trip'\n",
    "hst = jdi.run_pandexo(exo_dict, inst_dict, output_file='wasp43b.p')"
   ]
  },
  {
   "cell_type": "markdown",
   "metadata": {},
   "source": [
    "## Plot Results\n"
   ]
  },
  {
   "cell_type": "markdown",
   "metadata": {},
   "source": [
    "#### Plot simulated spectrum using specified file"
   ]
  },
  {
   "cell_type": "code",
   "execution_count": 11,
   "metadata": {
    "scrolled": true
   },
   "outputs": [],
   "source": [
    "import pandexo.engine.justplotit as jpi \n",
    "#using foo from above\n",
    "#other keys include model=True/False\n",
    "datawave, dataspec, dataerror, modelwave, modelspec = jpi.hst_spec(foo)"
   ]
  },
  {
   "cell_type": "markdown",
   "metadata": {},
   "source": [
    "## Compute earliest and latest possible start times for given start window size"
   ]
  },
  {
   "cell_type": "code",
   "execution_count": 13,
   "metadata": {
    "scrolled": true
   },
   "outputs": [],
   "source": [
    "#using foo from above\n",
    "obsphase1, obstr1, obsphase2, obstr2,rms = jpi.hst_time(foo)"
   ]
  },
  {
   "cell_type": "code",
   "execution_count": 16,
   "metadata": {},
   "outputs": [],
   "source": [
    "obsphase1, counts1, obsphase2, counts2, noise = jpi.hst_simulated_lightcurve(foo)"
   ]
  },
  {
   "cell_type": "markdown",
   "metadata": {},
   "source": [
    "## Print important info for observation"
   ]
  },
  {
   "cell_type": "code",
   "execution_count": 14,
   "metadata": {},
   "outputs": [
    {
     "data": {
      "text/plain": [
       "{'Number of HST orbits': 4,\n",
       " 'Use first orbit': True,\n",
       " 'WFC3 parameters: NSAMP': 10,\n",
       " 'WFC3 parameters: SAMP_SEQ': 'SPARS5',\n",
       " 'Recommended scan rate (arcsec/s)': 0.076,\n",
       " 'Scan height (pixels)': 13.454512396694216,\n",
       " 'Maximum pixel fluence (electrons)': 30266.370139081948,\n",
       " 'exposure time': 21.421000000000003,\n",
       " 'Estimated duty cycle (outside of Earth occultation)': 24.99116666666667,\n",
       " 'Transit depth uncertainty(ppm)': 62.43304527622844,\n",
       " 'Number of channels': 15,\n",
       " 'Number of Transits': 5,\n",
       " 'Start observations between orbital phases': '0.34805026292426416-0.3651232670900772'}"
      ]
     },
     "execution_count": 14,
     "metadata": {},
     "output_type": "execute_result"
    }
   ],
   "source": [
    "foo['wfc3_TExoNS']['info']"
   ]
  },
  {
   "cell_type": "code",
   "execution_count": null,
   "metadata": {},
   "outputs": [],
   "source": []
  }
 ],
 "metadata": {
  "kernelspec": {
   "display_name": "Python 3",
   "language": "python",
   "name": "python3"
  },
  "language_info": {
   "codemirror_mode": {
    "name": "ipython",
    "version": 3
   },
   "file_extension": ".py",
   "mimetype": "text/x-python",
   "name": "python",
   "nbconvert_exporter": "python",
   "pygments_lexer": "ipython3",
   "version": "3.7.2"
  }
 },
 "nbformat": 4,
 "nbformat_minor": 1
}
