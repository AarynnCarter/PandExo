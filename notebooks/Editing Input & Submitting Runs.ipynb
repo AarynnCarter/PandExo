{
 "cells": [
  {
   "cell_type": "code",
   "execution_count": 1,
   "metadata": {
    "collapsed": false
   },
   "outputs": [],
   "source": [
    "import warnings\n",
    "warnings.filterwarnings('ignore')\n",
    "import pandexo.engine.justdoit as jdi # THIS IS THE HOLY GRAIL OF PANDEXO\n",
    "import numpy as np\n",
    "import os"
   ]
  },
  {
   "cell_type": "markdown",
   "metadata": {},
   "source": [
    "## Editting Inputs\n",
    "\n",
    "### Step 1) Load in a blank exoplanet dictionary\n",
    "\n",
    "To start, load in a blank exoplanet dictionary with empty keys. You will fill these out for yourself in the next step. "
   ]
  },
  {
   "cell_type": "code",
   "execution_count": 2,
   "metadata": {
    "collapsed": false
   },
   "outputs": [
    {
     "name": "stdout",
     "output_type": "stream",
     "text": [
      "Replace all inputs before feeding to run_modes:\n",
      "Replace all inputs before feeding to run_modes:\n"
     ]
    },
    {
     "data": {
      "text/plain": [
       "{'observation': {'fraction': 'time in/out',\n",
       "  'noccultations': 'num transits',\n",
       "  'noise_floor': 'constant number or file name',\n",
       "  'sat_level': 'in % sat level',\n",
       "  'transit_duration': 'in seconds',\n",
       "  'wave_bin': 'in micron'},\n",
       " 'planet': {'exopath': 'file path',\n",
       "  'f_unit': 'rp/r* or fp/f*',\n",
       "  'type': 'user',\n",
       "  'w_unit': 'Angs,cm,um,cm or Hz'},\n",
       " 'star': {'f_unit': 'W/m2/um, FLAM, Jy, or erg/s/cm2/Hz',\n",
       "  'logg': 'cgs',\n",
       "  'mag': 'magnitude',\n",
       "  'metal': 'in log Fe/H',\n",
       "  'ref_wave': 'corresponding ref wave',\n",
       "  'starpath': 'file path',\n",
       "  'temp': 'Only if phoenix, (in K)',\n",
       "  'type': 'user or phoenix',\n",
       "  'w_unit': 'Angs,cm,um,cm or Hz'}}"
      ]
     },
     "execution_count": 2,
     "metadata": {},
     "output_type": "execute_result"
    }
   ],
   "source": [
    "exo_dict = jdi.load_exo_dict()\n",
    "jdi.load_exo_dict()"
   ]
  },
  {
   "cell_type": "markdown",
   "metadata": {},
   "source": [
    "#### Edit exoplanet observation inputs\n",
    "Editting each keys are annoying. But, do this carefully or it could result in nonsense runs"
   ]
  },
  {
   "cell_type": "code",
   "execution_count": 3,
   "metadata": {
    "collapsed": false
   },
   "outputs": [],
   "source": [
    "exo_dict['calculation'] = '2d extract'\n",
    "exo_dict['observation']['sat_level'] = 80 #saturation level in percent of full well \n",
    "exo_dict['observation']['transit_duration'] = 2.0*60.0*60.0 #transit duration in seconds\n",
    "exo_dict['observation']['noccultations'] = 2 #number of transits \n",
    "#fixed binning. I usually suggest ZERO binning.. you can always bin later \n",
    "#without having to redo the calcualtion\n",
    "exo_dict['observation']['wave_bin'] = 0.0 \n",
    "exo_dict['observation']['fraction'] = 1.0 #fraction of time in transit versus out = in/out\n",
    "exo_dict['observation']['noise_floor'] = 0 #this can be a fixed level or it can be a filepath \n",
    "#to a wavelength dependent noise floor solution"
   ]
  },
  {
   "cell_type": "markdown",
   "metadata": {},
   "source": [
    "#### Edit exoplanet star inputs\n",
    "Note... If you select 'phoenix' you **do not** have to provide a starpath, w_unit or f_unit, but you **do** have to provide a temp, metal and logg. If you select 'user' you **do not** need to provide a temp, metal and logg, but you **do** need to provide units and starpath. "
   ]
  },
  {
   "cell_type": "code",
   "execution_count": 4,
   "metadata": {
    "collapsed": true
   },
   "outputs": [],
   "source": [
    "exo_dict['star']['type'] = 'phoenix' #phoenix or user (if you have your own)\n",
    "exo_dict['star']['mag'] = 8.0 #magnitude of the system\n",
    "exo_dict['star']['ref_wave'] = 1.25 #always add this in micron\n",
    "exo_dict['star']['temp'] = 5500 #in K \n",
    "exo_dict['star']['metal'] = 0.0 # as log Fe/H\n",
    "exo_dict['star']['logg'] = 4.0 #log surface gravity cgs"
   ]
  },
  {
   "cell_type": "markdown",
   "metadata": {},
   "source": [
    "#### Edit exoplanet planet inputs"
   ]
  },
  {
   "cell_type": "code",
   "execution_count": 5,
   "metadata": {
    "collapsed": true
   },
   "outputs": [],
   "source": [
    "exo_dict['planet']['type'] = 'user' #only option.. until a dataase is made\n",
    "exo_dict['planet']['exopath'] = '/Users/nbatalh1/Desktop/Simulations/wasp12b.txt'\n",
    "exo_dict['planet']['w_unit'] = 'cm' \n",
    "exo_dict['planet']['f_unit'] = 'rp/r*' #this is actually (rp/r*)^2"
   ]
  },
  {
   "cell_type": "markdown",
   "metadata": {},
   "source": [
    "### Step 2) Load in instrument dictionary (optional)\n",
    " \n",
    "Step 2 is optional because PandExo has the functionality to automatically load in instrument dictionaries. Skip this if you plan on observing with one of the following: \n",
    "- NIRCam F444W\n",
    "- NIRSpec Prism\n",
    "- NIRSpec G395M\n",
    "- NIRSpec G395H\n",
    "- NIRSpec G235H\n",
    "- NIRSpec G235M\n",
    "- NIRCam F322W\n",
    "- NIRSpec G140M\n",
    "- NIRSpec G140H\n",
    "- MIRI LRS\n",
    "- NIRISS SOSS_Or1\n",
    "- NIRISS SOSS_Or2"
   ]
  },
  {
   "cell_type": "code",
   "execution_count": 6,
   "metadata": {
    "collapsed": false
   },
   "outputs": [
    {
     "name": "stdout",
     "output_type": "stream",
     "text": [
      "Choose from the following:\n",
      "['NIRCam F444W', 'NIRSpec Prism', 'NIRSpec G395M', 'NIRSpec G395H', 'NIRSpec G235H', 'NIRSpec G235M', 'NIRCam F322W', 'NIRSpec G140M', 'NIRSpec G140H', 'MIRI LRS', 'NIRISS SOSS_Or1', 'NIRISS SOSS_Or2']\n"
     ]
    }
   ],
   "source": [
    "jdi.print_instruments()"
   ]
  },
  {
   "cell_type": "code",
   "execution_count": 7,
   "metadata": {
    "collapsed": false
   },
   "outputs": [],
   "source": [
    "inst_dict = jdi.load_mode_dict('NIRCam F444W')"
   ]
  },
  {
   "cell_type": "markdown",
   "metadata": {},
   "source": [
    "## Running PandExo\n",
    "\n",
    "You have **four options** for running PandExo. All of them are accessed through attribute **jdi.run_pandexo**. See examples below. \n",
    "\n",
    "`    jdi.run_pandexo(exo, inst, param_space = 0, param_range = 0,save_file = True,\n",
    "                            output_path=os.getcwd(), output_file = '')`\n",
    "\n",
    "See wiki Attributes for more thorough explanation fo inputs\n"
   ]
  },
  {
   "cell_type": "markdown",
   "metadata": {},
   "source": [
    "### Option 1- Run single instrument mode, single planet\n",
    "If you forget which instruments are available run **jdi.print_isntruments()** and pick one "
   ]
  },
  {
   "cell_type": "code",
   "execution_count": 8,
   "metadata": {
    "collapsed": false
   },
   "outputs": [
    {
     "name": "stdout",
     "output_type": "stream",
     "text": [
      "Choose from the following:\n",
      "['NIRCam F444W', 'NIRSpec Prism', 'NIRSpec G395M', 'NIRSpec G395H', 'NIRSpec G235H', 'NIRSpec G235M', 'NIRCam F322W', 'NIRSpec G140M', 'NIRSpec G140H', 'MIRI LRS', 'NIRISS SOSS_Or1', 'NIRISS SOSS_Or2']\n"
     ]
    }
   ],
   "source": [
    "jdi.print_instruments()"
   ]
  },
  {
   "cell_type": "code",
   "execution_count": 9,
   "metadata": {
    "collapsed": false
   },
   "outputs": [
    {
     "name": "stdout",
     "output_type": "stream",
     "text": [
      "Running Single Case for: NIRCam F444W\n"
     ]
    },
    {
     "ename": "TypeError",
     "evalue": "loopingL() takes exactly 4 arguments (5 given)",
     "output_type": "error",
     "traceback": [
      "\u001b[0;31m---------------------------------------------------------------------------\u001b[0m",
      "\u001b[0;31mTypeError\u001b[0m                                 Traceback (most recent call last)",
      "\u001b[0;32m<ipython-input-9-355e24220bc5>\u001b[0m in \u001b[0;36m<module>\u001b[0;34m()\u001b[0m\n\u001b[0;32m----> 1\u001b[0;31m \u001b[0mresult\u001b[0m \u001b[0;34m=\u001b[0m \u001b[0mjdi\u001b[0m\u001b[0;34m.\u001b[0m\u001b[0mrun_pandexo\u001b[0m\u001b[0;34m(\u001b[0m\u001b[0mexo_dict\u001b[0m\u001b[0;34m,\u001b[0m\u001b[0;34m[\u001b[0m\u001b[0;34m'NIRCam F444W'\u001b[0m\u001b[0;34m]\u001b[0m\u001b[0;34m)\u001b[0m\u001b[0;34m\u001b[0m\u001b[0m\n\u001b[0m",
      "\u001b[0;32m/Users/nbatalh1/Ureka/variants/common/lib/python2.7/site-packages/pandexo.engine-0.0.dev0-py2.7.egg/pandexo/engine/justdoit.pyc\u001b[0m in \u001b[0;36mrun_pandexo\u001b[0;34m(exo, inst, param_space, param_range, save_file, output_path, output_file)\u001b[0m\n\u001b[1;32m    184\u001b[0m             \u001b[0;32mprint\u001b[0m \u001b[0;34m\"Running Single Case for: \"\u001b[0m \u001b[0;34m+\u001b[0m \u001b[0minst\u001b[0m\u001b[0;34m[\u001b[0m\u001b[0;36m0\u001b[0m\u001b[0;34m]\u001b[0m\u001b[0;34m\u001b[0m\u001b[0m\n\u001b[1;32m    185\u001b[0m             \u001b[0minst_dict\u001b[0m \u001b[0;34m=\u001b[0m \u001b[0mload_mode_dict\u001b[0m\u001b[0;34m(\u001b[0m\u001b[0minst\u001b[0m\u001b[0;34m[\u001b[0m\u001b[0;36m0\u001b[0m\u001b[0;34m]\u001b[0m\u001b[0;34m)\u001b[0m\u001b[0;34m\u001b[0m\u001b[0m\n\u001b[0;32m--> 186\u001b[0;31m             \u001b[0mresults\u001b[0m \u001b[0;34m=\u001b[0m\u001b[0mwrapper\u001b[0m\u001b[0;34m(\u001b[0m\u001b[0;34m{\u001b[0m\u001b[0;34m\"pandeia_input\"\u001b[0m\u001b[0;34m:\u001b[0m \u001b[0minst_dict\u001b[0m \u001b[0;34m,\u001b[0m \u001b[0;34m\"pandexo_input\"\u001b[0m\u001b[0;34m:\u001b[0m\u001b[0mexo\u001b[0m\u001b[0;34m}\u001b[0m\u001b[0;34m)\u001b[0m\u001b[0;34m\u001b[0m\u001b[0m\n\u001b[0m\u001b[1;32m    187\u001b[0m             \u001b[0;32mif\u001b[0m \u001b[0moutput_file\u001b[0m \u001b[0;34m==\u001b[0m \u001b[0;34m''\u001b[0m\u001b[0;34m:\u001b[0m\u001b[0;34m\u001b[0m\u001b[0m\n\u001b[1;32m    188\u001b[0m                 \u001b[0moutput_file\u001b[0m \u001b[0;34m=\u001b[0m \u001b[0;34m'singlerun.p'\u001b[0m\u001b[0;34m\u001b[0m\u001b[0m\n",
      "\u001b[0;32m/Users/nbatalh1/Ureka/variants/common/lib/python2.7/site-packages/pandexo.engine-0.0.dev0-py2.7.egg/pandexo/engine/pandexo.pyc\u001b[0m in \u001b[0;36mwrapper\u001b[0;34m(dictinput)\u001b[0m\n\u001b[1;32m    101\u001b[0m     \u001b[0;32melif\u001b[0m \u001b[0mpandexo_input\u001b[0m\u001b[0;34m[\u001b[0m\u001b[0;34m'calculation'\u001b[0m\u001b[0;34m]\u001b[0m\u001b[0;34m.\u001b[0m\u001b[0mlower\u001b[0m\u001b[0;34m(\u001b[0m\u001b[0;34m)\u001b[0m \u001b[0;34m==\u001b[0m \u001b[0;34m'2d extract'\u001b[0m\u001b[0;34m:\u001b[0m\u001b[0;34m\u001b[0m\u001b[0m\n\u001b[1;32m    102\u001b[0m         \u001b[0mw\u001b[0m \u001b[0;34m=\u001b[0m \u001b[0mout\u001b[0m\u001b[0;34m.\u001b[0m\u001b[0mcurves\u001b[0m\u001b[0;34m[\u001b[0m\u001b[0;34m'extracted_flux'\u001b[0m\u001b[0;34m]\u001b[0m\u001b[0;34m[\u001b[0m\u001b[0;36m0\u001b[0m\u001b[0;34m]\u001b[0m\u001b[0;34m\u001b[0m\u001b[0m\n\u001b[0;32m--> 103\u001b[0;31m         \u001b[0mresult\u001b[0m \u001b[0;34m=\u001b[0m \u001b[0mcompNoise\u001b[0m\u001b[0;34m.\u001b[0m\u001b[0mrun_2d_extraction\u001b[0m\u001b[0;34m(\u001b[0m\u001b[0;34m)\u001b[0m\u001b[0;34m\u001b[0m\u001b[0m\n\u001b[0m\u001b[1;32m    104\u001b[0m \u001b[0;34m\u001b[0m\u001b[0m\n\u001b[1;32m    105\u001b[0m \u001b[0;34m\u001b[0m\u001b[0m\n",
      "\u001b[0;32m/Users/nbatalh1/Ureka/variants/common/lib/python2.7/site-packages/pandexo.engine-0.0.dev0-py2.7.egg/pandexo/engine/compute_noise.pyc\u001b[0m in \u001b[0;36mrun_2d_extraction\u001b[0;34m(self)\u001b[0m\n\u001b[1;32m    202\u001b[0m         \"\"\"\n\u001b[1;32m    203\u001b[0m         \u001b[0;31m#optimize SNR and extract region\u001b[0m\u001b[0;34m\u001b[0m\u001b[0;34m\u001b[0m\u001b[0m\n\u001b[0;32m--> 204\u001b[0;31m         \u001b[0mextract\u001b[0m \u001b[0;34m=\u001b[0m \u001b[0mself\u001b[0m\u001b[0;34m.\u001b[0m\u001b[0mextract_region\u001b[0m\u001b[0;34m(\u001b[0m\u001b[0;34m)\u001b[0m\u001b[0;34m\u001b[0m\u001b[0m\n\u001b[0m\u001b[1;32m    205\u001b[0m         \u001b[0;31m#return summed up pixels\u001b[0m\u001b[0;34m\u001b[0m\u001b[0;34m\u001b[0m\u001b[0m\n\u001b[1;32m    206\u001b[0m         \u001b[0;32mreturn\u001b[0m \u001b[0mself\u001b[0m\u001b[0;34m.\u001b[0m\u001b[0msum_spatial\u001b[0m\u001b[0;34m(\u001b[0m\u001b[0mextract\u001b[0m\u001b[0;34m)\u001b[0m\u001b[0;34m\u001b[0m\u001b[0m\n",
      "\u001b[0;32m/Users/nbatalh1/Ureka/variants/common/lib/python2.7/site-packages/pandexo.engine-0.0.dev0-py2.7.egg/pandexo/engine/compute_noise.pyc\u001b[0m in \u001b[0;36mextract_region\u001b[0;34m(self)\u001b[0m\n\u001b[1;32m    179\u001b[0m \u001b[0;34m\u001b[0m\u001b[0m\n\u001b[1;32m    180\u001b[0m             \u001b[0;31m#store lower and upper bound extraction regions for in and out of transit\u001b[0m\u001b[0;34m\u001b[0m\u001b[0;34m\u001b[0m\u001b[0m\n\u001b[0;32m--> 181\u001b[0;31m             \u001b[0mLBout\u001b[0m\u001b[0;34m[\u001b[0m\u001b[0mj\u001b[0m\u001b[0;34m]\u001b[0m \u001b[0;34m=\u001b[0m \u001b[0mself\u001b[0m\u001b[0;34m.\u001b[0m\u001b[0mloopingL\u001b[0m\u001b[0;34m(\u001b[0m\u001b[0mcenRo\u001b[0m\u001b[0;34m,\u001b[0m \u001b[0msignal_col_out\u001b[0m\u001b[0;34m,\u001b[0m \u001b[0mnoise_col_out\u001b[0m\u001b[0;34m,\u001b[0m \u001b[0mbkg_col_out\u001b[0m\u001b[0;34m)\u001b[0m\u001b[0;34m\u001b[0m\u001b[0m\n\u001b[0m\u001b[1;32m    182\u001b[0m             \u001b[0mUBout\u001b[0m\u001b[0;34m[\u001b[0m\u001b[0mj\u001b[0m\u001b[0;34m]\u001b[0m \u001b[0;34m=\u001b[0m \u001b[0mself\u001b[0m\u001b[0;34m.\u001b[0m\u001b[0mloopingU\u001b[0m\u001b[0;34m(\u001b[0m\u001b[0mcenRo\u001b[0m\u001b[0;34m,\u001b[0m \u001b[0msignal_col_out\u001b[0m\u001b[0;34m,\u001b[0m \u001b[0mnoise_col_out\u001b[0m\u001b[0;34m,\u001b[0m \u001b[0mbkg_col_out\u001b[0m\u001b[0;34m)\u001b[0m\u001b[0;34m\u001b[0m\u001b[0m\n\u001b[1;32m    183\u001b[0m             \u001b[0mLBin\u001b[0m\u001b[0;34m[\u001b[0m\u001b[0mj\u001b[0m\u001b[0;34m]\u001b[0m \u001b[0;34m=\u001b[0m \u001b[0mself\u001b[0m\u001b[0;34m.\u001b[0m\u001b[0mloopingL\u001b[0m\u001b[0;34m(\u001b[0m\u001b[0mcenRi\u001b[0m\u001b[0;34m,\u001b[0m \u001b[0msignal_col_in\u001b[0m\u001b[0;34m,\u001b[0m \u001b[0mnoise_col_in\u001b[0m\u001b[0;34m,\u001b[0m \u001b[0mbkg_col_in\u001b[0m    \u001b[0;34m)\u001b[0m\u001b[0;34m\u001b[0m\u001b[0m\n",
      "\u001b[0;31mTypeError\u001b[0m: loopingL() takes exactly 4 arguments (5 given)"
     ]
    }
   ],
   "source": [
    "result = jdi.run_pandexo(exo_dict,['NIRCam F444W'])"
   ]
  },
  {
   "cell_type": "markdown",
   "metadata": {},
   "source": [
    "### Option 2- Run single instrument mode (with user dict), single planet\n",
    "This is the same thing as option 1 but instead of feeding it a list of keys, you can feed it a instrument dictionary (this is for users who wanted to simulate something NOT pre defined within pandexo)"
   ]
  },
  {
   "cell_type": "code",
   "execution_count": null,
   "metadata": {
    "collapsed": false
   },
   "outputs": [],
   "source": [
    "result = jdi.run_pandexo(exo_dict, inst_dict)"
   ]
  },
  {
   "cell_type": "markdown",
   "metadata": {},
   "source": [
    "### Option 3- Run several modes, single planet\n",
    "Use several modes from **print_isntruments()** options. "
   ]
  },
  {
   "cell_type": "code",
   "execution_count": null,
   "metadata": {
    "collapsed": false
   },
   "outputs": [],
   "source": [
    "#choose select \n",
    "result = jdi.run_pandexo(exo_dict,['NIRCam F444W','NIRCam F322W2','MIRI LRS'],\n",
    "               output_path = '/Users/nbatalh1/Desktop/JWSTFUN')\n",
    "#run all \n",
    "result = jdi.run_pandexo(exo_dict, ['RUN ALL'], save_file = False)"
   ]
  },
  {
   "cell_type": "markdown",
   "metadata": {},
   "source": [
    "### Option 4- Run single mode, several planet cases\n",
    "Use a single modes from **print_isntruments()** options. But explore parameter space with respect to **any** parameter in the exo dict. The example below shows how to loop over several planet models\n",
    "\n",
    "You can loop through anything in the exoplanet dictionary. It will be planet, star or observation followed by whatever you want to loop through in that set. \n",
    "\n",
    "i.e. planet+exopath, star+temp, star+metal, star+logg, observation+sat_level.. etc"
   ]
  },
  {
   "cell_type": "code",
   "execution_count": null,
   "metadata": {
    "collapsed": false
   },
   "outputs": [],
   "source": [
    "#looping over different exoplanet models \n",
    "jdi.run_pandexo(exo_dict, ['NIRCam F444W'], param_space = 'planet+exopath',\n",
    "                param_range = os.listdir('/Users/nbatalha1/all_my_models_here'),\n",
    "               output_path = '/Users/nbatalh1/Desktop/JWSTFUN')\n",
    "\n",
    "#looping over different stellar temperatures \n",
    "jdi.run_pandexo(exo_dict, ['NIRCam F444W'], param_space = 'star+temp',\n",
    "                param_range = np.linspace(5000,8000,2),\n",
    "               output_path = '/Users/nbatalh1/Desktop/JWSTFUN')\n",
    "\n",
    "#looping over different saturation levels\n",
    "jdi.run_pandexo(exo_dict, ['NIRCam F444W'], param_space = 'observation+sat_level',\n",
    "                param_range = np.linspace(.5,1,5),\n",
    "               output_path = '/Users/nbatalh1/Desktop/JWSTFUN')\n"
   ]
  }
 ],
 "metadata": {
  "kernelspec": {
   "display_name": "Python 2",
   "language": "python",
   "name": "python2"
  },
  "language_info": {
   "codemirror_mode": {
    "name": "ipython",
    "version": 2
   },
   "file_extension": ".py",
   "mimetype": "text/x-python",
   "name": "python",
   "nbconvert_exporter": "python",
   "pygments_lexer": "ipython2",
   "version": "2.7.5"
  }
 },
 "nbformat": 4,
 "nbformat_minor": 0
}
